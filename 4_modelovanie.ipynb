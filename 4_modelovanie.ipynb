{
 "cells": [
  {
   "cell_type": "code",
   "execution_count": null,
   "metadata": {},
   "outputs": [],
   "source": [
    "import pandas as pd\n",
    "import seaborn as sns\n",
    "import matplotlib.pyplot as plt\n",
    "from sklearn.linear_model import LogisticRegression\n",
    "from sklearn.model_selection import train_test_split\n",
    "from sklearn.ensemble import RandomForestClassifier\n",
    "from sklearn.neighbors import KNeighborsClassifier\n",
    "from sklearn.ensemble import AdaBoostClassifier\n",
    "from sklearn.naive_bayes import GaussianNB\n",
    "from sklearn.metrics import roc_auc_score, confusion_matrix, matthews_corrcoef, accuracy_score"
   ]
  },
  {
   "cell_type": "code",
   "execution_count": null,
   "metadata": {},
   "outputs": [],
   "source": [
    "#Nacitanie dat\n",
    "data = pd.read_csv(\"data.csv\", sep = \",\")"
   ]
  },
  {
   "cell_type": "code",
   "execution_count": null,
   "metadata": {},
   "outputs": [],
   "source": [
    "#Vsetky atributy\n",
    "x = data.drop(\"nebezpecenstvo\",axis=1)\n",
    "\n",
    "#Atributy metodou postupneho pridavania\n",
    "x_f = data[['den_v_tyzdni','cas','stat','kilometer','mesto','pricina_nehody','druh_nehody','typ_dialnice','miesto_nehody','lokacia_dialnice','celkovy_pocet_zranenych']]\n",
    "\n",
    "#Atributy metodou postupneho odstranovania\n",
    "x_b = data[['rok','cas','stat','kilometer','mesto','pricina_nehody','druh_nehody','faza_dna','sklon_vozovky','typ_dialnice','miesto_nehody','lokacia_dialnice','pocet_vozidiel','celkovy_pocet_zranenych','pocet_neuvedenych']]\n",
    "\n",
    "y = data['nebezpecenstvo']\n",
    "x_train_f,x_test_f,y_train,y_test = train_test_split(x_f,y,test_size=0.3,stratify=y,random_state=8391)\n",
    "x_train_b,x_test_b,y_train,y_test = train_test_split(x_b,y,test_size=0.3,stratify=y,random_state=8391)\n",
    "x_train,x_test,y_train,y_test = train_test_split(x,y,test_size=0.3,stratify=y,random_state=8391)"
   ]
  },
  {
   "cell_type": "markdown",
   "metadata": {},
   "source": [
    "K - najbližších susedov"
   ]
  },
  {
   "cell_type": "code",
   "execution_count": null,
   "metadata": {},
   "outputs": [],
   "source": [
    "model_KNN = KNeighborsClassifier().fit(x_train, y_train)\n",
    "y_pred_KNN = model_KNN.predict(x_test)\n",
    "\n",
    "model_KNN_f = KNeighborsClassifier().fit(x_train_f, y_train)\n",
    "y_pred_KNN_f = model_KNN_f.predict(x_test_f)\n",
    "\n",
    "model_KNN_b = KNeighborsClassifier().fit(x_train_b, y_train)\n",
    "y_pred_KNN_b = model_KNN_b.predict(x_test_b)\n",
    "\n",
    "auc_KNN = roc_auc_score(y_test, y_pred_KNN)\n",
    "print(f\"AUC pre KNN: {auc_KNN:.5f}\")\n",
    "\n",
    "auc_KNN_f = roc_auc_score(y_test, y_pred_KNN_f)\n",
    "print(f\"AUC pre KNN_f: {auc_KNN_f:.5f}\")\n",
    "\n",
    "auc_KNN_b = roc_auc_score(y_test, y_pred_KNN_b)\n",
    "print(f\"AUC pre KNN_b: {auc_KNN_b:.5f}\")"
   ]
  },
  {
   "cell_type": "markdown",
   "metadata": {},
   "source": [
    "Logistická regresia"
   ]
  },
  {
   "cell_type": "code",
   "execution_count": null,
   "metadata": {},
   "outputs": [],
   "source": [
    "model_LR = LogisticRegression(max_iter = 1000000).fit(x_train, y_train)\n",
    "y_pred_LR = model_LR.predict(x_test)\n",
    "\n",
    "model_LR_f = LogisticRegression(max_iter = 1000000).fit(x_train_f, y_train)\n",
    "y_pred_LR_f = model_LR_f.predict(x_test_f)\n",
    "\n",
    "model_LR_b = LogisticRegression(max_iter = 1000000).fit(x_train_b, y_train)\n",
    "y_pred_LR_b = model_LR_b.predict(x_test_b)\n",
    "\n",
    "auc_LR = roc_auc_score(y_test, y_pred_LR)\n",
    "print(f\"AUC pre LR: {auc_LR:.3f}\")\n",
    "\n",
    "auc_LR_f = roc_auc_score(y_test, y_pred_LR_f)\n",
    "print(f\"AUC pre LR_f: {auc_LR_f:.3f}\")\n",
    "\n",
    "auc_LR_b = roc_auc_score(y_test, y_pred_LR_b)\n",
    "print(f\"AUC pre LR_b: {auc_LR_b:.3f}\")"
   ]
  },
  {
   "cell_type": "markdown",
   "metadata": {},
   "source": [
    "Naivný Bayesov klasifikátor"
   ]
  },
  {
   "cell_type": "code",
   "execution_count": null,
   "metadata": {},
   "outputs": [],
   "source": [
    "model_NB = GaussianNB().fit(x_train, y_train)\n",
    "y_pred_NB = model_NB.predict(x_test)\n",
    "\n",
    "model_NB_f = GaussianNB().fit(x_train_f, y_train)\n",
    "y_pred_NB_f = model_NB_f.predict(x_test_f)\n",
    "\n",
    "model_NB_b = GaussianNB().fit(x_train_b, y_train)\n",
    "y_pred_NB_b = model_NB_b.predict(x_test_b)\n",
    "\n",
    "auc_NB = roc_auc_score(y_test, y_pred_NB)\n",
    "print(f\"AUC pre NB: {auc_NB:.3f}\")\n",
    "\n",
    "auc_NB_f = roc_auc_score(y_test, y_pred_NB_f)\n",
    "print(f\"AUC pre NB_f: {auc_NB_f:.3f}\")\n",
    "\n",
    "auc_NB_b = roc_auc_score(y_test, y_pred_NB_b)\n",
    "print(f\"AUC pre NB_b: {auc_NB_b:.3f}\")"
   ]
  },
  {
   "cell_type": "markdown",
   "metadata": {},
   "source": [
    "Náhodný les"
   ]
  },
  {
   "cell_type": "code",
   "execution_count": null,
   "metadata": {},
   "outputs": [],
   "source": [
    "model_RF = RandomForestClassifier().fit(x_train, y_train)\n",
    "y_pred_RF = model_RF.predict(x_test)\n",
    "\n",
    "model_RF_f = RandomForestClassifier().fit(x_train_f, y_train)\n",
    "y_pred_RF_f = model_RF_f.predict(x_test_f)\n",
    "\n",
    "model_RF_b = RandomForestClassifier().fit(x_train_b, y_train)\n",
    "y_pred_RF_b = model_RF_b.predict(x_test_b)\n",
    "\n",
    "auc_RF = roc_auc_score(y_test, y_pred_RF)\n",
    "print(f\"AUC pre RF: {auc_RF:.3f}\")\n",
    "\n",
    "auc_RF_f = roc_auc_score(y_test, y_pred_RF_f)\n",
    "print(f\"AUC pre RF_f: {auc_RF_f:.3f}\")\n",
    "\n",
    "auc_RF_b = roc_auc_score(y_test, y_pred_RF_b)\n",
    "print(f\"AUC pre RF_b: {auc_RF_b:.3f}\")"
   ]
  },
  {
   "cell_type": "markdown",
   "metadata": {},
   "source": [
    "AdaBoost"
   ]
  },
  {
   "cell_type": "code",
   "execution_count": null,
   "metadata": {},
   "outputs": [],
   "source": [
    "model_ABC = AdaBoostClassifier().fit(x_train, y_train)\n",
    "y_pred_ABC = model_ABC.predict(x_test)\n",
    "\n",
    "model_ABC_f = AdaBoostClassifier().fit(x_train_f, y_train)\n",
    "y_pred_ABC_f = model_ABC_f.predict(x_test_f)\n",
    "\n",
    "model_ABC_b = AdaBoostClassifier().fit(x_train_b, y_train)\n",
    "y_pred_ABC_b = model_ABC_b.predict(x_test_b)\n",
    "\n",
    "auc_ABC = roc_auc_score(y_test, y_pred_ABC)\n",
    "print(f\"AUC pre ABC: {auc_ABC:.3f}\")\n",
    "\n",
    "auc_ABC_f = roc_auc_score(y_test, y_pred_ABC_f)\n",
    "print(f\"AUC pre ABC_f: {auc_ABC_f:.3f}\")\n",
    "\n",
    "auc_ABC_b = roc_auc_score(y_test, y_pred_ABC_b)\n",
    "print(f\"AUC pre ABC_b: {auc_ABC_b:.3f}\")"
   ]
  },
  {
   "cell_type": "markdown",
   "metadata": {},
   "source": [
    "Matice zámen"
   ]
  },
  {
   "cell_type": "code",
   "execution_count": null,
   "metadata": {},
   "outputs": [],
   "source": [
    "#Matice zamen\n",
    "cm_KNN = confusion_matrix(y_test,y_pred_KNN)\n",
    "cm_KNN_f = confusion_matrix(y_test,y_pred_KNN_f)\n",
    "cm_KNN_b = confusion_matrix(y_test,y_pred_KNN_b)\n",
    "\n",
    "cm_LR = confusion_matrix(y_test,y_pred_LR)\n",
    "cm_LR_f = confusion_matrix(y_test,y_pred_LR_f)\n",
    "cm_LR_b = confusion_matrix(y_test,y_pred_LR_b)\n",
    "\n",
    "cm_NB = confusion_matrix(y_test,y_pred_NB)\n",
    "cm_NB_f = confusion_matrix(y_test,y_pred_NB_f)\n",
    "cm_NB_b = confusion_matrix(y_test,y_pred_NB_b)\n",
    "\n",
    "cm_RF = confusion_matrix(y_test,y_pred_RF)\n",
    "cm_RF_f = confusion_matrix(y_test,y_pred_RF_f)\n",
    "cm_RF_b = confusion_matrix(y_test,y_pred_RF_b)\n",
    "\n",
    "cm_ABC = confusion_matrix(y_test,y_pred_ABC)\n",
    "cm_ABC_f = confusion_matrix(y_test,y_pred_ABC_f)\n",
    "cm_ABC_b = confusion_matrix(y_test,y_pred_ABC_b)"
   ]
  },
  {
   "cell_type": "markdown",
   "metadata": {},
   "source": [
    "Grafy výsledov modelov metrík AUC, MCC a úspešnosť"
   ]
  },
  {
   "cell_type": "code",
   "execution_count": null,
   "metadata": {},
   "outputs": [],
   "source": [
    "#Vytvorenie mriezky\n",
    "fig, axs = plt.subplots(1, 3, constrained_layout=True, figsize=(14, 4))\n",
    "\n",
    "#Nastavenie nazvov matic zamen\n",
    "fig.suptitle(\"K - najbližších susedov\", fontsize=18, fontweight = \"bold\")\n",
    "axs[0].set_title(\"Všetky atribúty\", fontsize=16)\n",
    "axs[1].set_title(\"Postupné pridávanie atribútov\", fontsize=16)\n",
    "axs[2].set_title(\"Postupné odstraňovanie atribútov\", fontsize=16)\n",
    "\n",
    "#Vykreslenie matic zamen\n",
    "sns.heatmap(cm_KNN, annot=True, fmt=\"d\", cmap=\"Blues\", linewidths=0.5, linecolor=\"grey\", annot_kws={\"size\": 16}, ax=axs[0])\n",
    "sns.heatmap(cm_KNN_f, annot=True, fmt=\"d\", cmap=\"Reds\", linewidths=0.5, linecolor=\"grey\", annot_kws={\"size\": 16}, ax=axs[1])\n",
    "sns.heatmap(cm_KNN_b, annot=True, fmt=\"d\", cmap = \"Greens\", linewidths=0.5, linecolor=\"grey\", annot_kws={\"size\": 16}, ax=axs[2])\n",
    "\n",
    "#Nastavenie popisov\n",
    "for ax in axs:\n",
    "    ax.set_xlabel(\"Predpovedaná trieda\", fontsize=16)\n",
    "    ax.set_ylabel(\"Skutočná trieda\", fontsize=16)\n",
    "\n",
    "plt.show()"
   ]
  },
  {
   "cell_type": "code",
   "execution_count": null,
   "metadata": {},
   "outputs": [],
   "source": [
    "#Vytvorenie mriezky\n",
    "fig, axs = plt.subplots(1, 3, constrained_layout=True, figsize=(14, 4))\n",
    "\n",
    "#Nastavenie nazvov matic zamen\n",
    "fig.suptitle(\"Logistická regresia\", fontsize=18, fontweight = \"bold\")\n",
    "axs[0].set_title(\"Všetky atribúty\", fontsize=16)\n",
    "axs[1].set_title(\"Postupné pridávanie atribútov\", fontsize=16)\n",
    "axs[2].set_title(\"Postupné odstraňovanie atribútov\", fontsize=16)\n",
    "\n",
    "#Vykreslenie matic zamen\n",
    "sns.heatmap(cm_LR, annot=True, fmt=\"d\", cmap=\"Blues\", linewidths=0.5, linecolor=\"grey\", annot_kws={\"size\": 16}, ax=axs[0])\n",
    "sns.heatmap(cm_LR_f, annot=True, fmt=\"d\", cmap=\"Reds\", linewidths=0.5, linecolor=\"grey\", annot_kws={\"size\": 16}, ax=axs[1])\n",
    "sns.heatmap(cm_LR_b, annot=True,fmt=\"d\", cmap=\"Greens\", linewidths=0.5, linecolor=\"grey\", annot_kws={\"size\": 16}, ax=axs[2])\n",
    "\n",
    "#Nastavenie popisov\n",
    "for ax in axs:\n",
    "    ax.set_xlabel(\"Predpovedaná trieda\", fontsize=16)\n",
    "    ax.set_ylabel(\"Skutočná trieda\", fontsize=16)\n",
    "\n",
    "plt.show()"
   ]
  },
  {
   "cell_type": "code",
   "execution_count": null,
   "metadata": {},
   "outputs": [],
   "source": [
    "#Vytvorenie mriezky\n",
    "fig, axs = plt.subplots(1, 3, constrained_layout=True, figsize=(14, 4))\n",
    "\n",
    "#Nastavenie nazvov matic zamen\n",
    "fig.suptitle(\"Naivný Bayesov klasifikátor\", fontsize=18, fontweight = \"bold\")\n",
    "axs[0].set_title(\"Všetky atribúty\", fontsize=16)\n",
    "axs[1].set_title(\"Postupné pridávanie atribútov\", fontsize=16)\n",
    "axs[2].set_title(\"Postupné odstraňovanie atribútov\", fontsize=16)\n",
    "\n",
    "#Vykreslenie matic zamen\n",
    "sns.heatmap(cm_NB, annot=True, fmt=\"d\", cmap=\"Blues\", linewidths=0.5, linecolor=\"grey\", annot_kws={\"size\": 16}, ax=axs[0])\n",
    "sns.heatmap(cm_NB_f, annot=True, fmt=\"d\", cmap=\"Reds\", linewidths=0.5, linecolor=\"grey\", annot_kws={\"size\": 16}, ax=axs[1])\n",
    "sns.heatmap(cm_NB_b, annot=True,fmt=\"d\", cmap=\"Greens\", linewidths=0.5, linecolor=\"grey\", annot_kws={\"size\": 16}, ax=axs[2])\n",
    "\n",
    "#Nastavenie popisov\n",
    "for ax in axs:\n",
    "    ax.set_xlabel(\"Predpovedaná trieda\", fontsize=16)\n",
    "    ax.set_ylabel(\"Skutočná trieda\", fontsize=16)\n",
    "\n",
    "plt.show()"
   ]
  },
  {
   "cell_type": "code",
   "execution_count": null,
   "metadata": {},
   "outputs": [],
   "source": [
    "#Vytvorenie mriezky\n",
    "fig, axs = plt.subplots(1, 3, constrained_layout=True, figsize=(14, 4))\n",
    "\n",
    "#Nastavenie nazvov matic zamen\n",
    "fig.suptitle(\"Náhodný les\", fontsize=18, fontweight = \"bold\")\n",
    "axs[0].set_title(\"Všetky atribúty\", fontsize=16)\n",
    "axs[1].set_title(\"Postupné pridávanie atribútov\", fontsize=16)\n",
    "axs[2].set_title(\"Postupné odstraňovanie atribútov\", fontsize=16)\n",
    "\n",
    "#Vykreslenie matic zamen\n",
    "sns.heatmap(cm_RF, annot=True, fmt=\"d\", cmap=\"Blues\", linewidths=0.5, linecolor=\"grey\", annot_kws={\"size\": 16}, ax=axs[0])\n",
    "sns.heatmap(cm_RF_f, annot=True, fmt=\"d\", cmap=\"Reds\", linewidths=0.5, linecolor=\"grey\", annot_kws={\"size\": 16}, ax=axs[1])\n",
    "sns.heatmap(cm_RF_b, annot=True,fmt=\"d\", cmap=\"Greens\", linewidths=0.5, linecolor=\"grey\", annot_kws={\"size\": 16}, ax=axs[2])\n",
    "\n",
    "#Nastavenie popisov\n",
    "for ax in axs:\n",
    "    ax.set_xlabel(\"Predpovedaná trieda\", fontsize=16)\n",
    "    ax.set_ylabel(\"Skutočná trieda\", fontsize=16)\n",
    "\n",
    "plt.show()"
   ]
  },
  {
   "cell_type": "code",
   "execution_count": null,
   "metadata": {},
   "outputs": [],
   "source": [
    "#Vytvorenie mriezky\n",
    "fig, axs = plt.subplots(1, 3, constrained_layout=True, figsize=(14, 4))\n",
    "\n",
    "#Nastavenie nazvov matic zamen\n",
    "fig.suptitle(\"Adaboost\", fontsize=18, fontweight = \"bold\")\n",
    "axs[0].set_title(\"Všetky atribúty\", fontsize=16)\n",
    "axs[1].set_title(\"Postupné pridávanie atribútov\", fontsize=16)\n",
    "axs[2].set_title(\"Postupné odstraňovanie atribútov\", fontsize=16)\n",
    "\n",
    "#Vykreslenie matic zamen\n",
    "sns.heatmap(cm_ABC, annot=True, fmt=\"d\", cmap=\"Blues\", linewidths=0.5, linecolor=\"grey\", annot_kws={\"size\": 16}, ax=axs[0])\n",
    "sns.heatmap(cm_ABC_f, annot=True, fmt=\"d\", cmap=\"Reds\", linewidths=0.5, linecolor=\"grey\", annot_kws={\"size\": 16}, ax=axs[1])\n",
    "sns.heatmap(cm_ABC_b, annot=True,fmt=\"d\", cmap=\"Greens\", linewidths=0.5, linecolor=\"grey\", annot_kws={\"size\": 16}, ax=axs[2])\n",
    "\n",
    "#Nastavenie popisov\n",
    "for ax in axs:\n",
    "    ax.set_xlabel(\"Predpovedaná trieda\", fontsize=16)\n",
    "    ax.set_ylabel(\"Skutočná trieda\", fontsize=16)\n",
    "\n",
    "plt.show()"
   ]
  },
  {
   "cell_type": "markdown",
   "metadata": {},
   "source": [
    "Výsledky metrík MCC a úspešnosti"
   ]
  },
  {
   "cell_type": "code",
   "execution_count": null,
   "metadata": {},
   "outputs": [],
   "source": [
    "#Funkcia na vypisanie MCC a uspesnosti\n",
    "def mcc_acc(y_test,y_pred,string_model):\n",
    "    mcc = matthews_corrcoef(y_test, y_pred)\n",
    "    print(f\"MCC pre {string_model} : {mcc:.3f}\")\n",
    "    acc = accuracy_score(y_test, y_pred)\n",
    "    print(f\"Úspešnosť pre {string_model}: {acc:.3f}\\n\")"
   ]
  },
  {
   "cell_type": "code",
   "execution_count": null,
   "metadata": {},
   "outputs": [],
   "source": [
    "#Vypis MCC a uspesnosti\n",
    "results = {\n",
    "    \"all\": {\n",
    "        \"KNN\": mcc_acc(y_test, y_pred_KNN, \"KNN\"),\n",
    "        \"LR\": mcc_acc(y_test, y_pred_LR, \"LR\"),\n",
    "        \"NB\": mcc_acc(y_test, y_pred_NB, \"NB\"),\n",
    "        \"RF\": mcc_acc(y_test, y_pred_RF, \"RF\"),\n",
    "        \"ABC\": mcc_acc(y_test, y_pred_ABC, \"ABC\")\n",
    "    },\n",
    "    \"f\": {\n",
    "        \"KNN\": mcc_acc(y_test, y_pred_KNN_f, \"KNN_f\"),\n",
    "        \"LR\": mcc_acc(y_test, y_pred_LR_f, \"LR_f\"),\n",
    "        \"NB\": mcc_acc(y_test, y_pred_NB_f, \"NB_f\"),\n",
    "        \"RF\": mcc_acc(y_test, y_pred_RF_f, \"RF_f\"),\n",
    "        \"ABC\": mcc_acc(y_test, y_pred_ABC_f, \"ABC_f\")\n",
    "    },\n",
    "    \"b\": {\n",
    "        \"KNN\": mcc_acc(y_test, y_pred_KNN_b, \"KNN_b\"),\n",
    "        \"LR\": mcc_acc(y_test, y_pred_LR_b, \"LR_b\"),\n",
    "        \"NB\": mcc_acc(y_test, y_pred_NB_b, \"NB_b\"),\n",
    "        \"RF\": mcc_acc(y_test, y_pred_RF_b, \"RF_b\"),\n",
    "        \"ABC\": mcc_acc(y_test, y_pred_ABC_b, \"ABC_b\")\n",
    "    }\n",
    "}\n",
    "\n",
    "for key, value in results.items():\n",
    "    print(f\"Category: {key}\")"
   ]
  }
 ],
 "metadata": {
  "kernelspec": {
   "display_name": "Python 3",
   "language": "python",
   "name": "python3"
  },
  "language_info": {
   "codemirror_mode": {
    "name": "ipython",
    "version": 3
   },
   "file_extension": ".py",
   "mimetype": "text/x-python",
   "name": "python",
   "nbconvert_exporter": "python",
   "pygments_lexer": "ipython3",
   "version": "3.9.6"
  }
 },
 "nbformat": 4,
 "nbformat_minor": 2
}
