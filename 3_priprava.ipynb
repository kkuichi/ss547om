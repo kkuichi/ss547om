{
 "cells": [
  {
   "cell_type": "code",
   "execution_count": 1,
   "metadata": {},
   "outputs": [],
   "source": [
    "import pandas as pd\n",
    "import seaborn as sns\n",
    "import matplotlib.pyplot as plt\n",
    "from sklearn.preprocessing import LabelEncoder\n",
    "from mlxtend.feature_selection import SequentialFeatureSelector\n",
    "from sklearn.linear_model import LogisticRegression\n",
    "from sklearn.model_selection import train_test_split"
   ]
  },
  {
   "cell_type": "code",
   "execution_count": 2,
   "metadata": {},
   "outputs": [
    {
     "name": "stderr",
     "output_type": "stream",
     "text": [
      "/var/folders/_v/69trf4797bjdm6rrmtk051240000gn/T/ipykernel_95135/3681040214.py:2: DtypeWarning: Columns (5,25,26,27,28,29) have mixed types. Specify dtype option on import or set low_memory=False.\n",
      "  data = pd.read_csv(\"data.csv\", sep = \",\")\n"
     ]
    }
   ],
   "source": [
    "#Nacitanie dat\n",
    "data = pd.read_csv(\"data.csv\", sep = \",\")"
   ]
  },
  {
   "cell_type": "code",
   "execution_count": null,
   "metadata": {},
   "outputs": [],
   "source": [
    "data.head(5)"
   ]
  },
  {
   "cell_type": "markdown",
   "metadata": {},
   "source": [
    "PRETYPOVANIE ATRIBÚTOV + ODSTRÁNENIE CHÝBAJÚCICH HODNÔT"
   ]
  },
  {
   "cell_type": "code",
   "execution_count": null,
   "metadata": {},
   "outputs": [],
   "source": [
    "data.dtypes"
   ]
  },
  {
   "cell_type": "code",
   "execution_count": 3,
   "metadata": {},
   "outputs": [
    {
     "name": "stderr",
     "output_type": "stream",
     "text": [
      "/var/folders/_v/69trf4797bjdm6rrmtk051240000gn/T/ipykernel_95135/3825292402.py:3: UserWarning: Could not infer format, so each element will be parsed individually, falling back to `dateutil`. To ensure parsing is consistent and as-expected, please specify a format.\n",
      "  data['cas'] = pd.to_datetime(data['cas'])\n"
     ]
    }
   ],
   "source": [
    "#Pretypovanie atributov datum a cas na format datetime\n",
    "data['datum'] = pd.to_datetime(data['datum'], format='mixed')\n",
    "data['cas'] = pd.to_datetime(data['cas'])"
   ]
  },
  {
   "cell_type": "code",
   "execution_count": null,
   "metadata": {},
   "outputs": [],
   "source": [
    "#Rozdelenie atributu datum do 3 atributov (den, mesiac, rok)\n",
    "data['rok'] = data['datum'].apply(lambda time: time.year)\n",
    "data['mesiac'] = data['datum'].apply(lambda time: time.month)\n",
    "data['den'] = data['datum'].apply(lambda time: time.day)\n",
    "data = data.drop(['datum'], axis = 1)\n",
    "\n",
    "#Uprava atributu cas na cele hodiny\n",
    "data['cas'] = data['cas'].apply(lambda time: time.hour)"
   ]
  },
  {
   "cell_type": "code",
   "execution_count": null,
   "metadata": {},
   "outputs": [],
   "source": [
    "#Vymazanie atributov s vysokym poctom chybajucich hodnot\n",
    "data = data.drop(['latitude', 'longitude', 'regional', 'delegacia', 'uop'], axis=1)"
   ]
  },
  {
   "cell_type": "code",
   "execution_count": null,
   "metadata": {},
   "outputs": [],
   "source": [
    "#Zmena poradia atributov\n",
    "data = data[['den', 'mesiac', 'rok', 'den_v_tyzdni', 'cas', 'stat', 'cislo_dialnice', 'kilometer', 'mesto', 'pricina_nehody', 'druh_nehody', 'faza_dna', 'pocasie', 'sklon_vozovky', 'typ_dialnice', 'miesto_nehody', 'lokacia_dialnice', 'pocet_vozidiel', 'pocet_osob', 'celkovy_pocet_zranenych', 'pocet_mrtvych', 'pocet_lahko_zranenych', 'pocet_tazko_zranenych', 'pocet_nezranenych', 'pocet_neuvedenych', 'klasifikacia_nehody']]"
   ]
  },
  {
   "cell_type": "code",
   "execution_count": null,
   "metadata": {},
   "outputs": [],
   "source": [
    "#Pocet chybajucich hodnot pre kazdy atribut\n",
    "data.isna().sum()"
   ]
  },
  {
   "cell_type": "code",
   "execution_count": null,
   "metadata": {},
   "outputs": [],
   "source": [
    "#Odstranenie zaznamov s prazdnymi hodnotami\n",
    "data = data.dropna(subset=['kilometer', 'druh_nehody', 'faza_dna', 'pricina_nehody', 'pocasie', 'typ_dialnice', 'miesto_nehody', 'lokacia_dialnice'])"
   ]
  },
  {
   "cell_type": "code",
   "execution_count": null,
   "metadata": {},
   "outputs": [],
   "source": [
    "#Pretypovanie atributu cislo_dialnice na object\n",
    "data['cislo_dialnice'] = data['cislo_dialnice'].astype(int).astype(str)"
   ]
  },
  {
   "cell_type": "code",
   "execution_count": null,
   "metadata": {},
   "outputs": [],
   "source": [
    "#Nahradenie desatinnej ciarky bodkou pre konzistentnost atributu kilometer\n",
    "def convert_to_float_or_str(value):\n",
    "    try:\n",
    "        if isinstance(value, str):\n",
    "            return float(value.replace(',', '.'))\n",
    "        else:\n",
    "            return value\n",
    "    except ValueError:\n",
    "        return None\n",
    "\n",
    "data['kilometer'] = data['kilometer'].apply(convert_to_float_or_str)"
   ]
  },
  {
   "cell_type": "code",
   "execution_count": null,
   "metadata": {},
   "outputs": [],
   "source": [
    "#Pocet prikladov pre kazdu unikatnu hodnotu atributu klasifikacia nehody\n",
    "data['klasifikacia_nehody'].value_counts()"
   ]
  },
  {
   "cell_type": "code",
   "execution_count": null,
   "metadata": {},
   "outputs": [],
   "source": [
    "# Upravenie atributu klasifikacia nehody na zaklade novych kriterii\n",
    "def uprav_klasifikaciu(riadok):\n",
    "    if riadok['pocet_mrtvych'] >= 1:\n",
    "        return 'Smrtelna nehoda'\n",
    "    elif riadok['pocet_mrtvych'] == 0 and riadok['pocet_lahko_zranenych'] == 0 and riadok['pocet_tazko_zranenych'] == 0 and riadok['pocet_nezranenych'] >= 1:\n",
    "        return 'Nehoda bez zraneni'\n",
    "    elif riadok['pocet_tazko_zranenych'] >= 1:\n",
    "        return 'Nehoda s tazkymi zraneniami'\n",
    "    else:\n",
    "        return 'Nehoda s lahkymi zraneniami'\n",
    "\n",
    "data['klasifikacia_nehody'] = data.apply(uprav_klasifikaciu, axis=1)"
   ]
  },
  {
   "cell_type": "markdown",
   "metadata": {},
   "source": [
    "Vytvorenie cieľového atribútu"
   ]
  },
  {
   "cell_type": "code",
   "execution_count": null,
   "metadata": {},
   "outputs": [],
   "source": [
    "#Vytvorenie cieloveho atributu nebezpecenstvo\n",
    "def urcenie_nebezpecenstva(riadok):\n",
    "    if riadok['klasifikacia_nehody'] in ['Smrtelna nehoda', 'Nehoda s tazkymi zraneniami']:\n",
    "        return 1\n",
    "    else:\n",
    "        return 0\n",
    "\n",
    "data['nebezpecenstvo'] = data.apply(urcenie_nebezpecenstva, axis=1)"
   ]
  },
  {
   "cell_type": "code",
   "execution_count": null,
   "metadata": {},
   "outputs": [],
   "source": [
    "#Pocet unikatnych hodnot atributu nebezpecenstvo\n",
    "data['nebezpecenstvo'].value_counts()"
   ]
  },
  {
   "cell_type": "code",
   "execution_count": null,
   "metadata": {},
   "outputs": [],
   "source": [
    "#Funkcia na urcenie bezpecnych a nebezpecnych dialnic\n",
    "def aktualizuj_nebezpecnost(data):\n",
    "    #Zoznam dialnic\n",
    "    unikatne_dialnice = data['cislo_dialnice'].unique()\n",
    "    \n",
    "    for dialnica in unikatne_dialnice:\n",
    "        pocet_nebezpecnych = data[(data['cislo_dialnice'] == dialnica) & (data['nebezpecenstvo'] == 1)].shape[0]\n",
    "        pocet_bezpecnych = data[(data['cislo_dialnice'] == dialnica) & (data['nebezpecenstvo'] == 0)].shape[0]\n",
    "        percento_nebezpecnych = (pocet_nebezpecnych / (pocet_nebezpecnych+pocet_bezpecnych))\n",
    "        \n",
    "        #Ak doslo k max 15 nehodam, dialnica je bezpecna\n",
    "        if pocet_nebezpecnych + pocet_bezpecnych <= 15:\n",
    "            data.loc[data['cislo_dialnice'] == dialnica, 'nebezpecenstvo'] = 0\n",
    "        #Ak 15% a viac nehod na danej dialnici je nebezpecnych, dialnica je nebezpecna\n",
    "        elif percento_nebezpecnych >= 0.15:\n",
    "            data.loc[data['cislo_dialnice'] == dialnica, 'nebezpecenstvo'] = 1\n",
    "        #Ostatne dialnice su bezpecne\n",
    "        else:\n",
    "            data.loc[data['cislo_dialnice'] == dialnica, 'nebezpecenstvo'] = 0\n",
    "    \n",
    "    return data\n",
    "\n",
    "data = aktualizuj_nebezpecnost(data)"
   ]
  },
  {
   "cell_type": "code",
   "execution_count": null,
   "metadata": {},
   "outputs": [],
   "source": [
    "#Pocet unikatnych hodnot atributu nebezpecenstvo\n",
    "data['nebezpecenstvo'].value_counts()"
   ]
  },
  {
   "cell_type": "code",
   "execution_count": null,
   "metadata": {},
   "outputs": [],
   "source": [
    "#Pocet bezpecnych a nebezpecnych dialnic\n",
    "pocet_dialnic_s_0 = data[data['nebezpecenstvo'] == 0]['cislo_dialnice'].nunique()\n",
    "pocet_dialnic_s_1 = data[data['nebezpecenstvo'] == 1]['cislo_dialnice'].nunique()\n",
    "\n",
    "print(f\"Počet dialníc s hodnotou nebezpečenstva 0: {pocet_dialnic_s_0}\")\n",
    "print(f\"Počet dialníc s hodnotou nebezpečenstva 1: {pocet_dialnic_s_1}\")"
   ]
  },
  {
   "cell_type": "markdown",
   "metadata": {},
   "source": [
    "KORELÁCIA MEDZI NUMERICKÝMI ATRIBÚTMI"
   ]
  },
  {
   "cell_type": "code",
   "execution_count": null,
   "metadata": {},
   "outputs": [],
   "source": [
    "num_data = data[['den', 'cas', 'kilometer', 'pocet_osob', 'pocet_neuvedenych', 'pocet_vozidiel', 'celkovy_pocet_zranenych', 'pocet_mrtvych', 'pocet_lahko_zranenych', 'pocet_tazko_zranenych', 'pocet_nezranenych']]\n",
    "corr_matrix = num_data.corr()\n",
    "\n",
    "plt.figure(figsize=(10, 8))\n",
    "sns.heatmap(corr_matrix, annot=True, cmap='coolwarm')\n",
    "plt.show()"
   ]
  },
  {
   "cell_type": "code",
   "execution_count": null,
   "metadata": {},
   "outputs": [],
   "source": [
    "#Odstranie atributov, ktore boli pouzite pri uprave inych atributov, taktiez atributy s vysokou a strednou korelaciou\n",
    "data = data.drop(['cislo_dialnice','pocet_mrtvych', 'pocet_lahko_zranenych', 'pocet_tazko_zranenych', 'pocet_nezranenych', 'klasifikacia_nehody', 'pocet_osob'], axis=1)"
   ]
  },
  {
   "cell_type": "markdown",
   "metadata": {},
   "source": [
    "Konverzia kategorických atribútov na numerické"
   ]
  },
  {
   "cell_type": "code",
   "execution_count": null,
   "metadata": {},
   "outputs": [],
   "source": [
    "#Zmena kategorickych atributov na numericke\n",
    "enc = LabelEncoder()\n",
    "data[\"den_v_tyzdni\"] = enc.fit_transform(data[\"den_v_tyzdni\"])\n",
    "data[\"faza_dna\"] = enc.fit_transform(data[\"faza_dna\"])\n",
    "data[\"sklon_vozovky\"] = enc.fit_transform(data[\"sklon_vozovky\"])\n",
    "data[\"pocasie\"] = enc.fit_transform(data[\"pocasie\"])\n",
    "data[\"typ_dialnice\"] = enc.fit_transform(data[\"typ_dialnice\"])\n",
    "data[\"miesto_nehody\"] = enc.fit_transform(data[\"miesto_nehody\"])\n",
    "data[\"lokacia_dialnice\"] = enc.fit_transform(data[\"lokacia_dialnice\"])\n",
    "data[\"stat\"] = enc.fit_transform(data[\"stat\"])\n",
    "data[\"mesto\"] = enc.fit_transform(data[\"mesto\"])\n",
    "data[\"pricina_nehody\"] = enc.fit_transform(data[\"pricina_nehody\"])\n",
    "data[\"druh_nehody\"] = enc.fit_transform(data[\"druh_nehody\"])"
   ]
  },
  {
   "cell_type": "markdown",
   "metadata": {},
   "source": [
    "Kroková regresia"
   ]
  },
  {
   "cell_type": "code",
   "execution_count": null,
   "metadata": {},
   "outputs": [],
   "source": [
    "#Vyber vzorky dat\n",
    "data_sample = data.sample(n=50000, random_state=8391)\n",
    "\n",
    "#Funkcia krokovej regresie\n",
    "def selection_auc(data_sample, target_column, forward, type):\n",
    "    X = data_sample.drop(columns=[target_column])\n",
    "    y = data_sample[target_column]\n",
    "    feature_selector = SequentialFeatureSelector(LogisticRegression(max_iter = 1000000),\n",
    "                                                 k_features='best',\n",
    "                                                 forward=forward,\n",
    "                                                 scoring='roc_auc')\n",
    "    feature_selector.fit(X, y)\n",
    "    selected_features = list(X.columns[list(feature_selector.k_feature_idx_)])\n",
    "    print(f\"{type}: {selected_features}\")\n",
    "    return selected_features"
   ]
  },
  {
   "cell_type": "code",
   "execution_count": null,
   "metadata": {},
   "outputs": [],
   "source": [
    "# Vypis atributov oboma krokovymi regresiami\n",
    "selected_features_forward_auc = selection_auc(data_sample, 'nebezpecenstvo', True, \"FORWARD\")\n",
    "selected_features_backward_auc = selection_auc(data_sample, 'nebezpecenstvo', False, \"BACKWARD\")"
   ]
  },
  {
   "cell_type": "code",
   "execution_count": null,
   "metadata": {},
   "outputs": [],
   "source": [
    "#Ulozenie predspracovanych dat\n",
    "data.to_csv('data.csv', index=False)"
   ]
  }
 ],
 "metadata": {
  "kernelspec": {
   "display_name": "Python 3",
   "language": "python",
   "name": "python3"
  },
  "language_info": {
   "codemirror_mode": {
    "name": "ipython",
    "version": 3
   },
   "file_extension": ".py",
   "mimetype": "text/x-python",
   "name": "python",
   "nbconvert_exporter": "python",
   "pygments_lexer": "ipython3",
   "version": "3.9.6"
  }
 },
 "nbformat": 4,
 "nbformat_minor": 2
}
